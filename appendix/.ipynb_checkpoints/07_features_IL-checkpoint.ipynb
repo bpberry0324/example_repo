{
 "cells": [
  {
   "cell_type": "code",
   "execution_count": 1,
   "id": "9014e847-2c04-4553-8fa8-acdbc6901e92",
   "metadata": {},
   "outputs": [
    {
     "name": "stdout",
     "output_type": "stream",
     "text": [
      "This is a dummy file.\n"
     ]
    }
   ],
   "source": [
    "print('This is a dummy file.')"
   ]
  },
  {
   "cell_type": "code",
   "execution_count": null,
   "id": "a4acbb07-dedf-4bac-a82a-24d0ddde104a",
   "metadata": {},
   "outputs": [],
   "source": []
  }
 ],
 "metadata": {
  "kernelspec": {
   "display_name": "Python 3",
   "language": "python",
   "name": "python3"
  },
  "language_info": {
   "codemirror_mode": {
    "name": "ipython",
    "version": 3
   },
   "file_extension": ".py",
   "mimetype": "text/x-python",
   "name": "python",
   "nbconvert_exporter": "python",
   "pygments_lexer": "ipython3",
   "version": "3.8.8"
  }
 },
 "nbformat": 4,
 "nbformat_minor": 5
}
